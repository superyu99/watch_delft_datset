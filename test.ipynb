{
 "cells": [
  {
   "cell_type": "code",
   "execution_count": 2,
   "metadata": {},
   "outputs": [
    {
     "name": "stdout",
     "output_type": "stream",
     "text": [
      "Lidar directory: /DISK_F/view_of_delft_PUBLIC/lidar/training/velodyne\n",
      "Radar directory: /DISK_F/view_of_delft_PUBLIC/radar_5frames/training/velodyne\n"
     ]
    },
    {
     "data": {
      "application/vnd.jupyter.widget-view+json": {
       "model_id": "260eb5e078144a3a8655e5b85fd1915b",
       "version_major": 2,
       "version_minor": 0
      },
      "text/plain": [
       "Output()"
      ]
     },
     "metadata": {},
     "output_type": "display_data"
    }
   ],
   "source": [
    "from vod.configuration import KittiLocations\n",
    "from vod.visualization import Visualization2D\n",
    "\n",
    "kitti_locations = KittiLocations(root_dir=\"/DISK_F/view_of_delft_PUBLIC\",\n",
    "                                output_dir=\"example_output/\",\n",
    "                                frame_set_path=\"\",\n",
    "                                pred_dir=\"\",\n",
    "                                )\n",
    "\n",
    "print(f\"Lidar directory: {kitti_locations.lidar_dir}\")\n",
    "print(f\"Radar directory: {kitti_locations.radar_dir}\")\n",
    "\n",
    "from vod.frame import FrameDataLoader\n",
    "\n",
    "frame_data = FrameDataLoader(kitti_locations=kitti_locations,\n",
    "                             frame_number=\"00393\")\n",
    "\n",
    "\n",
    "# 看图片\n",
    "# import matplotlib.pyplot as plt\n",
    "# import matplotlib\n",
    "# matplotlib.use('TkAgg')\n",
    "\n",
    "# imgplot = plt.imshow(frame_data.image)\n",
    "# plt.show()\n",
    "\n",
    "\n",
    "# vis2d = Visualization2D(frame_data)\n",
    "# vis2d.draw_plot(#show_lidar=True,\n",
    "#                 plot_figure=False,\n",
    "#                 show_radar=True,\n",
    "#                 show_gt=True,\n",
    "#                 # min_distance_threshold=5,\n",
    "#                 # max_distance_threshold=20,\n",
    "#                 save_figure=True)\n",
    "\n",
    "#看雷达\n",
    "# print(frame_data.lidar_data)\n",
    "\n",
    "# 3D Visualization of the point-cloud\n",
    "from vod.visualization import Visualization3D\n",
    "vis_3d = Visualization3D(frame_data=frame_data,origin=\"lidar\")\n",
    "\n",
    "\n",
    "vis_3d.draw_plot(lidar_points_plot=True,radar_velocity_plot=True,radar_points_plot=True,annotations_plot=True)"
   ]
  }
 ],
 "metadata": {
  "kernelspec": {
   "display_name": "delft",
   "language": "python",
   "name": "python3"
  },
  "language_info": {
   "codemirror_mode": {
    "name": "ipython",
    "version": 3
   },
   "file_extension": ".py",
   "mimetype": "text/x-python",
   "name": "python",
   "nbconvert_exporter": "python",
   "pygments_lexer": "ipython3",
   "version": "3.8.16"
  },
  "orig_nbformat": 4,
  "vscode": {
   "interpreter": {
    "hash": "94b3c50f70a3abf17f16942c447a12d3f136c8bd8c10d51cdde5d8537891b843"
   }
  }
 },
 "nbformat": 4,
 "nbformat_minor": 2
}
