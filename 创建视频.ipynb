{
 "cells": [
  {
   "cell_type": "code",
   "execution_count": 3,
   "id": "52fb15ec",
   "metadata": {},
   "outputs": [
    {
     "name": "stderr",
     "output_type": "stream",
     "text": [
      "Creating train video: 100%|███████████████████████████████████████████████████████████████████████████████| 1988/1988 [00:56<00:00, 35.28it/s]\n",
      "Creating train video: 100%|█████████████████████████████████████████████████████████████████████████████████| 298/298 [00:08<00:00, 33.74it/s]\n",
      "Creating train video: 100%|█████████████████████████████████████████████████████████████████████████████████| 438/438 [00:12<00:00, 34.59it/s]\n",
      "Creating train video: 100%|█████████████████████████████████████████████████████████████████████████████████| 603/603 [00:16<00:00, 35.62it/s]\n",
      "Creating train video: 100%|█████████████████████████████████████████████████████████████████████████████████| 784/784 [00:21<00:00, 36.90it/s]\n",
      "Creating train video: 100%|█████████████████████████████████████████████████████████████████████████████████| 615/615 [00:16<00:00, 37.70it/s]\n",
      "Creating train video: 100%|█████████████████████████████████████████████████████████████████████████████████| 413/413 [00:10<00:00, 38.62it/s]\n"
     ]
    }
   ],
   "source": [
    "import cv2\n",
    "import os\n",
    "from tqdm import tqdm\n",
    "\n",
    "start_indices = []\n",
    "end_indices = []\n",
    "\n",
    "with open('/workspace/mot/whatch_delft_dataset/view_of_delft/lidar/ImageSets/full.txt', 'r') as f:\n",
    "    lines = f.readlines()\n",
    "    frame_numbers = [int(line.strip()) for line in lines]\n",
    "\n",
    "start_indices.append(frame_numbers[0])\n",
    "\n",
    "for i in range(len(frame_numbers) - 1):\n",
    "    diff = abs(frame_numbers[i + 1] - frame_numbers[i])\n",
    "    if diff > 1:\n",
    "        end_indices.append(frame_numbers[i])\n",
    "        start_indices.append(frame_numbers[i + 1])\n",
    "\n",
    "end_indices.append(frame_numbers[-1])\n",
    "\n",
    "assert len(start_indices) == len(end_indices)\n",
    "\n",
    "image_folder = '/workspace/mot/whatch_delft_dataset/view_of_delft/lidar/training/image_2'\n",
    "\n",
    "\n",
    "def create_video(start_frame, end_frame, video_name, dataset_info):\n",
    "    # Get the size of the first frame\n",
    "    first_frame_name = f\"{start_frame:05d}.jpg\"\n",
    "    first_frame_path = os.path.join(image_folder, first_frame_name)\n",
    "    first_frame = cv2.imread(first_frame_path)\n",
    "    height, width, layers = first_frame.shape\n",
    "    size = (width, height)\n",
    "\n",
    "    out = cv2.VideoWriter(video_name, cv2.VideoWriter_fourcc(*'mp4v'), 10, size)\n",
    "\n",
    "    for frame_number in tqdm(range(start_frame, end_frame + 1), desc=f\"Creating {dataset_info} video\"):\n",
    "        img_name = f\"{frame_number:05d}.jpg\"\n",
    "        img_path = os.path.join(image_folder, img_name)\n",
    "        img = cv2.imread(img_path)\n",
    "\n",
    "        # Add frame number and dataset info to the image\n",
    "        text = f\"{frame_number:05d} {dataset_info},start:{start_frame},end:{end_frame}\"\n",
    "        cv2.putText(img, text, (15, 40), cv2.FONT_HERSHEY_SIMPLEX, 1.2, (255, 0, 0), 2, cv2.LINE_AA)\n",
    "\n",
    "        # Write the frame directly to the video file\n",
    "        out.write(img)\n",
    "\n",
    "    out.release()\n",
    "\n",
    "for i in range(0,7):\n",
    "    create_video(start_indices[i], end_indices[i], f'train_{i}.mp4', 'train')\n",
    "# Combine frames into videos\n",
    "\n",
    "# create_video(start_indices[7], end_indices[10], 'val.mp4', 'val')\n",
    "# create_video(start_indices[11], end_indices[14], 'test.mp4', 'test')"
   ]
  },
  {
   "cell_type": "code",
   "execution_count": 2,
   "id": "850cf20c",
   "metadata": {},
   "outputs": [
    {
     "name": "stderr",
     "output_type": "stream",
     "text": [
      "100%|████████████████████████████████████████████████████████████████████████████████████████████████████████| 6/6 [00:00<00:00, 25890.77it/s]"
     ]
    },
    {
     "name": "stdout",
     "output_type": "stream",
     "text": [
      "0\n",
      "1\n",
      "2\n",
      "3\n",
      "4\n",
      "5\n"
     ]
    },
    {
     "name": "stderr",
     "output_type": "stream",
     "text": [
      "\n"
     ]
    }
   ],
   "source": [
    "from tqdm import tqdm\n",
    "for i in tqdm(range(0,7)):\n",
    "    print(i)"
   ]
  },
  {
   "cell_type": "code",
   "execution_count": null,
   "id": "2084bd1f",
   "metadata": {},
   "outputs": [],
   "source": []
  }
 ],
 "metadata": {
  "kernelspec": {
   "display_name": "delft",
   "language": "python",
   "name": "python3"
  },
  "language_info": {
   "codemirror_mode": {
    "name": "ipython",
    "version": 3
   },
   "file_extension": ".py",
   "mimetype": "text/x-python",
   "name": "python",
   "nbconvert_exporter": "python",
   "pygments_lexer": "ipython3",
   "version": "3.8.16 (default, Mar  2 2023, 03:21:46) \n[GCC 11.2.0]"
  },
  "vscode": {
   "interpreter": {
    "hash": "94b3c50f70a3abf17f16942c447a12d3f136c8bd8c10d51cdde5d8537891b843"
   }
  }
 },
 "nbformat": 4,
 "nbformat_minor": 5
}
